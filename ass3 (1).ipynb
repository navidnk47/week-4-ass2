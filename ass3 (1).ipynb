{
 "cells": [
  {
   "cell_type": "code",
   "execution_count": null,
   "id": "cd94ab78-61ad-4a9a-9640-624f88399783",
   "metadata": {},
   "outputs": [],
   "source": [
    "Q1. What is Abstraction in OOps? Explain with an example."
   ]
  },
  {
   "cell_type": "code",
   "execution_count": 1,
   "id": "11be4935-1c5d-48cf-9a95-d7b8a922d236",
   "metadata": {},
   "outputs": [],
   "source": [
    "import abc\n",
    "class pwskills:\n",
    "    \n",
    "    @abc.abstractmethod\n",
    "    def student_details(self):\n",
    "        pass\n",
    "    @abc.abstractmethod\n",
    "    def student_assignment(self):\n",
    "        pass\n",
    "    @abc.abstractmethod\n",
    "    def student_marks(self):\n",
    "        pass"
   ]
  },
  {
   "cell_type": "code",
   "execution_count": 8,
   "id": "8f7af904-a3ab-4a1c-bb94-b4bf604585aa",
   "metadata": {},
   "outputs": [],
   "source": [
    "class student_details(pwskills):\n",
    "    \n",
    "    def student_details(self):\n",
    "        return \"it is my details\"\n",
    "    \n",
    "    def student_assignment(self):\n",
    "        return \"this is my assignment detail \""
   ]
  },
  {
   "cell_type": "code",
   "execution_count": 9,
   "id": "46db47ee-9732-488c-97a5-66711c80f955",
   "metadata": {},
   "outputs": [],
   "source": [
    "class data_science_master(pwskills):\n",
    "    \n",
    "    def student_details(self):\n",
    "        return \"this is my personal details\"\n",
    "    \n",
    "    def student_assignment(self):\n",
    "        return \"this is my assignment of software Engineering\""
   ]
  },
  {
   "cell_type": "code",
   "execution_count": 10,
   "id": "c2666ad9-a427-4eb9-aa86-ab92401f311f",
   "metadata": {},
   "outputs": [
    {
     "data": {
      "text/plain": [
       "'this is my personal details'"
      ]
     },
     "execution_count": 10,
     "metadata": {},
     "output_type": "execute_result"
    }
   ],
   "source": [
    "nkp = data_science_master()\n",
    "nkp.student_details()"
   ]
  },
  {
   "cell_type": "code",
   "execution_count": 11,
   "id": "533747aa-f1bb-49ad-8267-b6bedfcc01d0",
   "metadata": {},
   "outputs": [
    {
     "data": {
      "text/plain": [
       "'this is my assignment of software Engineering'"
      ]
     },
     "execution_count": 11,
     "metadata": {},
     "output_type": "execute_result"
    }
   ],
   "source": [
    "nk1 = data_science_master()\n",
    "nk1.student_assignment()"
   ]
  },
  {
   "cell_type": "code",
   "execution_count": 12,
   "id": "558b2822-4971-4c91-a3b1-31018c2637ca",
   "metadata": {},
   "outputs": [
    {
     "data": {
      "text/plain": [
       "'it is my details'"
      ]
     },
     "execution_count": 12,
     "metadata": {},
     "output_type": "execute_result"
    }
   ],
   "source": [
    "ns= student_details()\n",
    "ns.student_details()"
   ]
  },
  {
   "cell_type": "code",
   "execution_count": null,
   "id": "e259f3b7-9e65-49d0-bfc0-878aa8107403",
   "metadata": {},
   "outputs": [],
   "source": []
  },
  {
   "cell_type": "code",
   "execution_count": null,
   "id": "08ab1f9c-cfd0-41b7-b8c1-cf3ec54ac62c",
   "metadata": {},
   "outputs": [],
   "source": [
    "Q2. Differentiate between Abstraction and Encapsulation. Explain with an example."
   ]
  },
  {
   "cell_type": "code",
   "execution_count": null,
   "id": "ed63f7c1-35a9-4a83-833d-e23c3e3485ac",
   "metadata": {},
   "outputs": [],
   "source": [
    "abstraction is a public class all can see"
   ]
  },
  {
   "cell_type": "code",
   "execution_count": 22,
   "id": "455468b8-fb7c-4898-a3d1-4924ebca981b",
   "metadata": {},
   "outputs": [],
   "source": [
    "import abc\n",
    "class navidkhan:\n",
    "    \n",
    "    @abc.abstractmethod\n",
    "    def navid_details(self):\n",
    "        pass\n",
    "    @abc.abstractmethod\n",
    "    def navid_work(self):\n",
    "        pass"
   ]
  },
  {
   "cell_type": "code",
   "execution_count": 24,
   "id": "af730cc5-3775-4691-b128-b89dc4755c62",
   "metadata": {},
   "outputs": [],
   "source": [
    "class navid_details(navidkhan):\n",
    "    \n",
    "    def navid_details(self):\n",
    "        return \"its navid details\"\n",
    "    \n",
    "    def navid_work(self):\n",
    "        return \"this is work of navid  \""
   ]
  },
  {
   "cell_type": "code",
   "execution_count": 27,
   "id": "0d5ee759-5f8c-4e89-8d57-09c7564a6c20",
   "metadata": {},
   "outputs": [
    {
     "data": {
      "text/plain": [
       "'its navid details'"
      ]
     },
     "execution_count": 27,
     "metadata": {},
     "output_type": "execute_result"
    }
   ],
   "source": [
    "nk=navid_details()\n",
    "nk.navid_details()"
   ]
  },
  {
   "cell_type": "code",
   "execution_count": 32,
   "id": "fd9290f6-775d-4389-8c8f-2a49d1dc7178",
   "metadata": {},
   "outputs": [
    {
     "data": {
      "text/plain": [
       "'this is work of navid  '"
      ]
     },
     "execution_count": 32,
     "metadata": {},
     "output_type": "execute_result"
    }
   ],
   "source": [
    "nk=navid_details()\n",
    "nk.navid_work()"
   ]
  },
  {
   "cell_type": "code",
   "execution_count": null,
   "id": "02d8287a-3bd6-46f8-bcd5-8797e4bf074e",
   "metadata": {},
   "outputs": [],
   "source": [
    "Encapsulation is a private class any user will define: below with example'"
   ]
  },
  {
   "cell_type": "code",
   "execution_count": 13,
   "id": "8077cc8e-da45-4d7b-901a-eb8c61d417a6",
   "metadata": {},
   "outputs": [],
   "source": [
    "class bank_account : \n",
    "    def __init__(self , balance) : \n",
    "        self.__balanace = balance \n",
    "        \n",
    "    def deposit(self , amount) : \n",
    "        self.__balanace = self.__balanace + amount\n",
    "        \n",
    "    def withdaw(self ,amount) : \n",
    "        if self.__balanace >= amount :\n",
    "            self.__balanace = self.__balanace - amount\n",
    "            return True\n",
    "        else : \n",
    "            return False\n",
    "    \n",
    "    def get_banalnce(self):\n",
    "        return self.__balanace"
   ]
  },
  {
   "cell_type": "code",
   "execution_count": 14,
   "id": "a27b7e62-9e00-4fb8-8bbf-fe3253e4d602",
   "metadata": {},
   "outputs": [],
   "source": [
    "sudh = bank_account(1000)"
   ]
  },
  {
   "cell_type": "code",
   "execution_count": 16,
   "id": "a4e8b9b6-769c-4a05-abb5-6dc68a93fb60",
   "metadata": {},
   "outputs": [
    {
     "data": {
      "text/plain": [
       "1000"
      ]
     },
     "execution_count": 16,
     "metadata": {},
     "output_type": "execute_result"
    }
   ],
   "source": [
    "sudh.get_banalnce()"
   ]
  },
  {
   "cell_type": "code",
   "execution_count": 17,
   "id": "0a5061cf-808f-44d5-b6b5-2dccde6b1dd0",
   "metadata": {},
   "outputs": [],
   "source": [
    "sudh.deposit(5000)"
   ]
  },
  {
   "cell_type": "code",
   "execution_count": 18,
   "id": "d1299f78-c4de-4c68-9e95-14d792074db7",
   "metadata": {},
   "outputs": [
    {
     "data": {
      "text/plain": [
       "6000"
      ]
     },
     "execution_count": 18,
     "metadata": {},
     "output_type": "execute_result"
    }
   ],
   "source": [
    "sudh.get_banalnce()"
   ]
  },
  {
   "cell_type": "code",
   "execution_count": 19,
   "id": "86340ae9-9ce8-46ca-aee8-a4434ae5884c",
   "metadata": {},
   "outputs": [
    {
     "data": {
      "text/plain": [
       "True"
      ]
     },
     "execution_count": 19,
     "metadata": {},
     "output_type": "execute_result"
    }
   ],
   "source": [
    "sudh.withdaw(3000)"
   ]
  },
  {
   "cell_type": "code",
   "execution_count": 21,
   "id": "71112869-0ffa-4916-a62b-10ad257e3580",
   "metadata": {},
   "outputs": [
    {
     "data": {
      "text/plain": [
       "3000"
      ]
     },
     "execution_count": 21,
     "metadata": {},
     "output_type": "execute_result"
    }
   ],
   "source": [
    "sudh.get_banalnce()"
   ]
  },
  {
   "cell_type": "code",
   "execution_count": null,
   "id": "d9844ebb-d314-4933-a94f-f27e0efccb23",
   "metadata": {},
   "outputs": [],
   "source": []
  },
  {
   "cell_type": "code",
   "execution_count": null,
   "id": "73427b07-b262-4480-adb0-a02029d5aeb4",
   "metadata": {},
   "outputs": [],
   "source": [
    "Q3. What is abc module in python? Why is it used?"
   ]
  },
  {
   "cell_type": "code",
   "execution_count": null,
   "id": "52e5f89f-7884-4c13-96b3-7d06ae406543",
   "metadata": {},
   "outputs": [],
   "source": [
    "The abc module in Python is used to define abstract base classes (ABCs). ABCs are classes that cannot be instantiated, but that can be inherited from by other classes. They are used to define the common interface for a set of related classes, and to enforce certain constraints on those classes.\n",
    "For example, you could define an ABC for a geometric shape. The ABC would define the common methods that all geometric shapes must have, such as get_area() and get_perimeter(). Any class that inherits from the ABC must implement these methods. This ensures that all geometric shapes are consistent in the way they are represented and manipulated."
   ]
  },
  {
   "cell_type": "code",
   "execution_count": null,
   "id": "394d50ae-8e10-4d14-8e1e-33485a8ff6e0",
   "metadata": {},
   "outputs": [],
   "source": []
  },
  {
   "cell_type": "code",
   "execution_count": null,
   "id": "12605886-e805-4454-ad7a-ff1debb9226a",
   "metadata": {},
   "outputs": [],
   "source": [
    "Q4. How can we achieve data abstraction?"
   ]
  },
  {
   "cell_type": "code",
   "execution_count": null,
   "id": "bbc934d2-c25f-4faa-85d2-2d36aaf34d63",
   "metadata": {},
   "outputs": [],
   "source": [
    "Data abstraction is the process of hiding the implementation details of an object from the user"
   ]
  },
  {
   "cell_type": "code",
   "execution_count": 34,
   "id": "bf85d80c-d23e-4145-aedd-64ab137d241c",
   "metadata": {},
   "outputs": [],
   "source": [
    "class Person:\n",
    "    def __init__(self, name, age):\n",
    "        self.name = name\n",
    "        self.age = age\n",
    "    def say_hello(self):\n",
    "        print(f\"Hello, my name is {self.name}.\")"
   ]
  },
  {
   "cell_type": "code",
   "execution_count": 35,
   "id": "7896e6b7-1e97-43fd-996c-9d96b8bf1713",
   "metadata": {},
   "outputs": [],
   "source": [
    "person = Person(\"mustaqueem\", 30)"
   ]
  },
  {
   "cell_type": "code",
   "execution_count": 39,
   "id": "97fb4d8b-7d54-4e2b-af7c-34d6d074e2c5",
   "metadata": {},
   "outputs": [
    {
     "data": {
      "text/plain": [
       "30"
      ]
     },
     "execution_count": 39,
     "metadata": {},
     "output_type": "execute_result"
    }
   ],
   "source": [
    "person.age"
   ]
  },
  {
   "cell_type": "code",
   "execution_count": 40,
   "id": "cbac82c4-900f-42b9-9447-b11ce015ccb5",
   "metadata": {},
   "outputs": [
    {
     "data": {
      "text/plain": [
       "'mustaqueem'"
      ]
     },
     "execution_count": 40,
     "metadata": {},
     "output_type": "execute_result"
    }
   ],
   "source": [
    "person.name"
   ]
  },
  {
   "cell_type": "code",
   "execution_count": null,
   "id": "bdc5aae7-2333-45de-b6e1-39083c57c970",
   "metadata": {},
   "outputs": [],
   "source": []
  },
  {
   "cell_type": "code",
   "execution_count": null,
   "id": "eb8635aa-d16f-4b1b-8611-3bbccffe40bb",
   "metadata": {},
   "outputs": [],
   "source": [
    "Q5. Can we create an instance of an abstract class? Explain your answer."
   ]
  },
  {
   "cell_type": "code",
   "execution_count": null,
   "id": "c99d6d4a-923d-40d9-b0f0-dc52a2cdc244",
   "metadata": {},
   "outputs": [],
   "source": [
    "No we  cannot create an instance of an abstract class in Python. An abstract class is a class that cannot be instantiated directly. This is because an abstract class is a blueprint for other classes, and it does not have any concrete implementation. Instead, an abstract class defines the common interface for a set of related classes.\n",
    "For example, you could define an abstract class called `Shape` that defines the common interface for all shapes. The `Shape` class would have methods for getting the area and perimeter of a shape, but it would not have any concrete implementation for these methods. Instead, the `Shape` class would require that any subclass of `Shape` implement these methods.\n",
    "You could then create subclasses of `Shape` for different types of shapes, such as a `Rectangle` class and a `Circle` class. The `Rectangle` class would implement the `get_area()` and `get_perimeter()` methods for rectangles, and the `Circle` class would implement the `get_area()` and `get_perimeter()` methods for circles.\n",
    "By using abstract classes, you can create a common interface for a set of related classes without having to worry about the specific implementation of each class. This makes it easier to write generic code that can work with any type of shape."
   ]
  },
  {
   "cell_type": "code",
   "execution_count": null,
   "id": "14335a8c-9a7e-45b8-943d-c75cd18d0c6d",
   "metadata": {},
   "outputs": [],
   "source": []
  }
 ],
 "metadata": {
  "kernelspec": {
   "display_name": "Python 3 (ipykernel)",
   "language": "python",
   "name": "python3"
  },
  "language_info": {
   "codemirror_mode": {
    "name": "ipython",
    "version": 3
   },
   "file_extension": ".py",
   "mimetype": "text/x-python",
   "name": "python",
   "nbconvert_exporter": "python",
   "pygments_lexer": "ipython3",
   "version": "3.10.8"
  }
 },
 "nbformat": 4,
 "nbformat_minor": 5
}
